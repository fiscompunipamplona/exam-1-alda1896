{
 "cells": [
  {
   "cell_type": "markdown",
   "metadata": {},
   "source": [
    " Tenemos un filto de cafe cayendo en caida libre, podemos modelar el problema partiendo de la segunda ley de Newton y considerando un coeficiente de fricción C\n",
    " \n",
    "\\begin{equation}\n",
    "F=ma=m\\frac{dv}{dt}\n",
    "\\end{equation}\n",
    "\n",
    "\\begin{equation}\n",
    "\\frac{dv}{dt}=\\frac{F}{m}\n",
    "\\end{equation}\n",
    "\n",
    "\\begin{equation}\n",
    "\\frac{dv}{dt}=\\frac{Fg+Fa}{m}\n",
    "\\end{equation}\n",
    "\n",
    "\\begin{equation}\n",
    "Fa=cv\n",
    "\\end{equation}\n",
    "\n",
    "\\begin{equation}\n",
    "\\frac{dv}{dt}=\\frac{-mg+cv}{m}\n",
    "\\end{equation}\n",
    "\n",
    "Ecuación diferencial\n",
    "\\begin{equation}\n",
    "\\frac{dv}{dt}=-g+\\frac{cv(t)}{m}\n",
    "\\end{equation}\n",
    "\n",
    "Para hallar la solución analitíca usamos la sustitución:\n",
    " \n",
    "\\begin{equation}\n",
    "u=-g+\\frac{cv(t)}{m}\n",
    "\\end{equation} \n",
    "\n",
    "\\begin{equation}\n",
    "du=\\frac{c}{m}dv\n",
    "\\end{equation} \n",
    " \n",
    "\\begin{equation}\n",
    "\\int \\frac{du}{u}=\\int \\frac{c}{m}dt\n",
    "\\end{equation} \n",
    "\n",
    "\n",
    "\\begin{equation}\n",
    "ln(u)=\\frac{c}{m}t+c1\n",
    "\\end{equation} \n",
    "\n",
    "\\begin{equation}\n",
    "u=e^{\\frac{c}{m}t+c1}\n",
    "\\end{equation} \n",
    "\n",
    "\\begin{equation}\n",
    "-g+\\frac{c}{m}v=e^{\\frac{c}{m}t+c1}\n",
    "\\end{equation} \n",
    " \n",
    "\n",
    "finalmente la velocidad analítica es: \n",
    "\\begin{equation}\n",
    "v(t)=\\frac{mg}{c}(1-e^{\\frac{ct}{m}})\n",
    "\\end{equation}\n",
    "\n"
   ]
  },
  {
   "cell_type": "markdown",
   "metadata": {},
   "source": [
    "Ahora leeremos los datos del archivo fallin que contiene los datos de un filtro de café que cae libremente \n",
    "e incluye la fricción con el aire. En la primer columna aparece el tiempo y en la segunda la posición."
   ]
  },
  {
   "cell_type": "code",
   "execution_count": 1,
   "metadata": {},
   "outputs": [],
   "source": [
    "from numpy import loadtxt, shape, exp\n",
    "from matplotlib.pyplot import plot as plt\n",
    "from pylab import plot, show, grid, xlabel, ylabel, xlim, ylim"
   ]
  },
  {
   "cell_type": "code",
   "execution_count": 2,
   "metadata": {},
   "outputs": [],
   "source": [
    "data = loadtxt('../parcial/falling.txt', comments=\"//\")"
   ]
  },
  {
   "cell_type": "markdown",
   "metadata": {},
   "source": [
    "Ahora graficamos las posiciones en funcion del tiempo"
   ]
  },
  {
   "cell_type": "code",
   "execution_count": 3,
   "metadata": {},
   "outputs": [
    {
     "data": {
      "text/plain": [
       "<function matplotlib.pyplot.show(*args, **kw)>"
      ]
     },
     "execution_count": 3,
     "metadata": {},
     "output_type": "execute_result"
    },
    {
     "data": {
      "image/png": "[encoded data removed]",
      "text/plain": [
       "<Figure size 432x288 with 1 Axes>"
      ]
     },
     "metadata": {
      "needs_background": "light"
     },
     "output_type": "display_data"
    }
   ],
   "source": [
    "plt(data[:,0], data[:,1], 'o')\n",
    "xlabel(\"tiempo [s]\")\n",
    "ylabel(\"posición [m]\")\n",
    "show"
   ]
  },
  {
   "cell_type": "markdown",
   "metadata": {},
   "source": [
    "Ahora calculamos la derivada numérica que fisicamente representa la velocidad de caida del objeto, para ello usamos cada uno de los métodos vistos en clase y posteriormente graficamos estos datos en función del tiempo"
   ]
  },
  {
   "cell_type": "code",
   "execution_count": null,
   "metadata": {},
   "outputs": [],
   "source": [
    "from pylab import plot, legend, grid\n",
    "from math import exp\n",
    "    \n",
    "\n",
    "vel1=[]\n",
    "time1=[]\n",
    " \n",
    "#El dt no es fijo sino que varía entre cada intervalo de posiciones, asi que se define en cada ciclo partiendo de los datos.\n",
    "    \n",
    "for t in range (1,27):\n",
    "    \n",
    "    v1=(data[t,1]-data[t-1,1])/(data[t,0]-data[t-1,0]) #  método de diferencias finitas hacia atras\n",
    "    vel1.append(v1)                     \n",
    "    time1.append(data[t,0])\n",
    "    \n",
    "\n",
    "\n",
    "vel2=[]\n",
    "time2=[]\n",
    "\n",
    "for t in range (1,26):\n",
    "    \n",
    "    v2=(data[t+1,1]-data[t-1,1])/(2*(data[t,0]-data[t-1,0]))# método de diferencias finitas centrado\n",
    "    vel2.append(v2)\n",
    "    time2.append(data[t,0])\n",
    "    \n",
    "    \n",
    "\n",
    "vel3=[]\n",
    "time3=[]\n",
    "\n",
    "for t in range (1,26):\n",
    "    \n",
    "    v3=(data[t+1,1]-data[t,1])/(data[t+1,0]-data[t,0])#  método de diferencias finitas hacia adelante\n",
    "    vel3.append(v3)\n",
    "    time3.append(data[t,0])\n",
    "    \n",
    "vana=[]\n",
    "time=[]\n",
    "k=0.051\n",
    "g=9.8\n",
    "    \n",
    "for t in range (0,15):\n",
    "    v=k*g*(1-exp((19.6)*data[t,0]))\n",
    "    vana.append(v)\n",
    "    time.append(data[t,0])"
   ]
  },
  {
   "cell_type": "code",
   "execution_count": 7,
   "metadata": {},
   "outputs": [
    {
     "data": {
      "image/png": "[encoded data removed]",
      "text/plain": [
       "<Figure size 432x288 with 1 Axes>"
      ]
     },
     "metadata": {
      "needs_background": "light"
     },
     "output_type": "display_data"
    }
   ],
   "source": [
    "plot (time1,vel1 ,'o', label='hacia atras')\n",
    "plot (time2,vel2,'o', label='centrada')\n",
    "plot (time3,vel3,'o', label='hacia adelante')\n",
    "legend(loc='lower left')\n",
    "grid ('on')\n",
    "ylim(-1,0)\n",
    "xlabel(\"tiempo [s]\")\n",
    "ylabel(\"velocidad [m/s]\")\n",
    "show()"
   ]
  },
  {
   "cell_type": "markdown",
   "metadata": {},
   "source": [
    "Como se observa en la  grafica anterior la velocidad tiende a caer para luego estabilizarce en un punto entre [-0.5, -0.7] \n",
    "sin embargo, en este intervalo los datos son muy dispersos para determinar con precision cual es la velocidad terminal."
   ]
  },
  {
   "cell_type": "code",
   "execution_count": 33,
   "metadata": {},
   "outputs": [
    {
     "data": {
      "image/png": "[encoded data removed]",
      "text/plain": [
       "<Figure size 432x288 with 1 Axes>"
      ]
     },
     "metadata": {
      "needs_background": "light"
     },
     "output_type": "display_data"
    }
   ],
   "source": [
    "plot (time,vana, label='analítica')\n",
    "xlabel(\"tiempo [s]\")\n",
    "ylabel(\"velocidad [m/s]\")\n",
    "show()"
   ]
  },
  {
   "cell_type": "markdown",
   "metadata": {},
   "source": [
    "La  anterior grafica representa la veocidad analitica en el intervalo de tiempo en el que trasncurre la caida para \n",
    "los datos experimentales, sin embargo se observa que no existe correspondencia entre esta grafica y la realizada mediante los datos numericos, esto posiblemente se deaba a que el modelo fisico planteado no sea el adecuado ya que la expresion para la velocidad no tiene en cuenta restricciones y por lo  tanto la funcion explota. \n",
    " Por otra parte la discrepancia entre ambas graficas se puede deber al hecho de que para calcular la constante c/m useamos datos numericos "
   ]
  },
  {
   "cell_type": "markdown",
   "metadata": {},
   "source": [
    "Ahora calcularemos la aceleracion partiendo de los datos obtenidos para las velocidades, de nuevo usando el metodo de diferencia finitas centrado."
   ]
  },
  {
   "cell_type": "code",
   "execution_count": 9,
   "metadata": {},
   "outputs": [
    {
     "data": {
      "text/plain": [
       "<function matplotlib.pyplot.show(*args, **kw)>"
      ]
     },
     "execution_count": 9,
     "metadata": {},
     "output_type": "execute_result"
    },
    {
     "data": {
      "image/png": "[encoded data removed]",
      "text/plain": [
       "<Figure size 432x288 with 1 Axes>"
      ]
     },
     "metadata": {
      "needs_background": "light"
     },
     "output_type": "display_data"
    }
   ],
   "source": [
    "ace=[]\n",
    "timea=[]\n",
    "    \n",
    "for t in range (1,25):\n",
    "    \n",
    "    a=(vel1[t+1]-vel1[t-1])/(2*(data[t,0]-data[t-1,0]))\n",
    "    ace.append(a)\n",
    "    timea.append (data[t,0])\n",
    "    \n",
    "plot (timea,ace, 'o')\n",
    "xlabel(\"tiempo [t]\")\n",
    "ylabel(\"aceleracion [m/s^2]\") \n",
    "grid ('on')\n",
    "show"
   ]
  },
  {
   "cell_type": "markdown",
   "metadata": {},
   "source": [
    "La aceleración del objeto debería tender a ser cero en la gráfica anterior. Sin embargo, este comportamiente no se observa quizá debido a la dispersión de los datos o también puede deberse a que no se hallan tomado muestras en un intervalo temporal suficientemente grande para garantizar que se alcanzó la velocidad terminal y esta no logre apreciarse en los datos, sin embargo podemos observar en que momento esta aceleracion se hace cero al rededor del intervalo de 0.5 a 0.7 segundos"
   ]
  },
  {
   "cell_type": "markdown",
   "metadata": {},
   "source": [
    "analizaremos el error asociado a cada uno de los parametros que se han tenido en cuenta durante los calculos:\n",
    "Los cálculos de la velocidad hallados con el método de diferencias finitas poseen un error proporcional al tamaño del dt en el caso de diferencias finitas hacia atrás y hacia adelante el error es de 0.0247 y con el metodo centrado el error es proporcional al cuadrado del dt es decir de 0.00061009 :"
   ]
  },
  {
   "cell_type": "code",
   "execution_count": 16,
   "metadata": {},
   "outputs": [
    {
     "name": "stdout",
     "output_type": "stream",
     "text": [
      "0.0247\n",
      "0.00061009\n"
     ]
    }
   ],
   "source": [
    "dt= (data[1,0]-data[0,0])\n",
    "print (dt)\n",
    "print(dt**2)"
   ]
  },
  {
   "cell_type": "markdown",
   "metadata": {},
   "source": [
    "Para la velocidad analitica el error asocido se calcula teniendo en cuenta la derivada de la funcion analitica, por un dt:\n",
    "    \n",
    "\\begin{equation}\n",
    "\\frac{dv}{dt}=-ge^{\\frac{c}{m}t}dt\n",
    "\\end{equation}\n",
    "    \n",
    " Donde el dt es el paso en el que se calculan los datos que se corresponde con el valor de 0.0247\n",
    " \n",
    " \n",
    "Para hallar el valor de c/m  observamos en la grafica de la aceleracion contra tiempo el punto en el que esta se hace aproximadamente cero y por lo tanto la velocidad sería una constante, como los datos son muy dispersos es posible que exista un margen de error considerable, el valor oscila entre el tiempo 0.5 y 0.7 segundos, ahora observamos en la grafica de velocidad contra tiempo el valor de la velocidad a partir de este intervalo y encontramos que es aproximadamente 0.5 m/s entonces\n",
    "\n",
    "\n",
    "\\begin{equation}\n",
    "a=-g+\\frac{c}{m}v=0\n",
    "\\end{equation}\n",
    "\n",
    "\\begin{equation}\n",
    "\\frac{c}{m}=\\frac{g}{v}\n",
    "\\end{equation}\n",
    "\n",
    "\\begin{equation}\n",
    "\\frac{c}{m}=0.051\n",
    "\\end{equation}\n",
    "\n",
    "     "
   ]
  },
  {
   "cell_type": "code",
   "execution_count": null,
   "metadata": {},
   "outputs": [],
   "source": []
  }
 ],
 "metadata": {
  "kernelspec": {
   "display_name": "Python 3",
   "language": "python",
   "name": "python3"
  },
  "language_info": {
   "codemirror_mode": {
    "name": "ipython",
    "version": 3
   },
   "file_extension": ".py",
   "mimetype": "text/x-python",
   "name": "python",
   "nbconvert_exporter": "python",
   "pygments_lexer": "ipython3",
   "version": "3.7.3"
  }
 },
 "nbformat": 4,
 "nbformat_minor": 2
}
